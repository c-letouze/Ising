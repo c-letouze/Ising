{
 "cells": [
  {
   "cell_type": "markdown",
   "metadata": {},
   "source": [
    "# Ising project\n",
    "## Studying the end of the transcient regime"
   ]
  },
  {
   "cell_type": "code",
   "execution_count": 1,
   "metadata": {},
   "outputs": [],
   "source": [
    "import metropolis\n",
    "import numpy as np\n",
    "import matplotlib.pyplot as plt"
   ]
  },
  {
   "cell_type": "code",
   "execution_count": 2,
   "metadata": {},
   "outputs": [],
   "source": [
    "transcient_iter=100"
   ]
  },
  {
   "cell_type": "code",
   "execution_count": 3,
   "metadata": {},
   "outputs": [
    {
     "name": "stdout",
     "output_type": "stream",
     "text": [
      "Simulating a 40x40 Ising system at temperature 0.1.\n"
     ]
    },
    {
     "data": {
      "image/png": "[encoded data removed]",
      "text/plain": [
       "<Figure size 432x288 with 2 Axes>"
      ]
     },
     "metadata": {
      "needs_background": "light"
     },
     "output_type": "display_data"
    }
   ],
   "source": [
    "# Near zero\n",
    "temp_frosty = 0.1\n",
    "fritz_frosty = metropolis.Metropolis(temp_frosty)\n",
    "print(fritz_frosty)\n",
    "record_frosty = fritz_frosty.evolve(transcient_iter)\n",
    "fritz_frosty.plot()"
   ]
  },
  {
   "cell_type": "code",
   "execution_count": null,
   "metadata": {},
   "outputs": [],
   "source": [
    "# Below critical\n",
    "temp_tepid = 1.5\n",
    "fritz_tepid = metropolis.Metropolis(temp_tepid)\n",
    "record_tepid = fritz_tepid.evolve(transcient_iter)"
   ]
  },
  {
   "cell_type": "code",
   "execution_count": null,
   "metadata": {},
   "outputs": [],
   "source": [
    "# Near critical\n",
    "temp_crit = 2.5\n",
    "fritz_crit = metropolis.Metropolis(temp_crit)\n",
    "record_crit = fritz_crit.evolve(transcient_iter)"
   ]
  },
  {
   "cell_type": "code",
   "execution_count": null,
   "metadata": {},
   "outputs": [],
   "source": [
    "# Above critical \n",
    "temp_mild = 3.0\n",
    "fritz_mild = metropolis.Metropolis(temp_mild)\n",
    "record_mild = fritz_mild.evolve(transcient_iter)"
   ]
  },
  {
   "cell_type": "code",
   "execution_count": null,
   "metadata": {},
   "outputs": [],
   "source": [
    "# Plot the evolution\n",
    "plt.plot(record_frosty[:, 0], record_frosty[:, 1], ':', marker='^',\n",
    "         ms=2, label='frosty')\n",
    "plt.plot(record_tepid[:, 0], record_tepid[:, 1], ':', marker='#',\n",
    "         ms=2, label='tepid')\n",
    "plt.plot(record_crit[:, 0], record_crit[:, 1], ':', marker='+',\n",
    "         ms=2, label='crit')\n",
    "plt.plot(record_mild[:, 0], record_mild[:, 1], ':', marker='o',\n",
    "         ms=2, label='mild')\n",
    "plt.xlabel(\"iteration\")\n",
    "plt.ylabel(\"Energy per site\")\n",
    "plt.title(\"Transcient regime\")\n",
    "plt.legend()\n",
    "plt.show()"
   ]
  },
  {
   "cell_type": "code",
   "execution_count": null,
   "metadata": {},
   "outputs": [],
   "source": []
  }
 ],
 "metadata": {
  "kernelspec": {
   "display_name": "Python 3",
   "language": "python",
   "name": "python3"
  },
  "language_info": {
   "codemirror_mode": {
    "name": "ipython",
    "version": 3
   },
   "file_extension": ".py",
   "mimetype": "text/x-python",
   "name": "python",
   "nbconvert_exporter": "python",
   "pygments_lexer": "ipython3",
   "version": "3.8.3"
  }
 },
 "nbformat": 4,
 "nbformat_minor": 4
}
